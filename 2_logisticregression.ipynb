{
 "cells": [
  {
   "cell_type": "code",
   "execution_count": 1,
   "metadata": {},
   "outputs": [],
   "source": [
    "from sklearn.datasets import load_iris\n",
    "from sklearn.linear_model import LogisticRegression\n",
    "from sklearn.model_selection import train_test_split\n",
    "from sklearn.metrics import classification_report, confusion_matrix, accuracy_score\n",
    "import matplotlib.pyplot as plt\n",
    "import seaborn as sns\n",
    "import pandas as pd"
   ]
  },
  {
   "cell_type": "code",
   "execution_count": 2,
   "metadata": {},
   "outputs": [
    {
     "name": "stdout",
     "output_type": "stream",
     "text": [
      "   sepal length (cm)  sepal width (cm)  petal length (cm)  petal width (cm)  \\\n",
      "0                5.1               3.5                1.4               0.2   \n",
      "1                4.9               3.0                1.4               0.2   \n",
      "2                4.7               3.2                1.3               0.2   \n",
      "3                4.6               3.1                1.5               0.2   \n",
      "4                5.0               3.6                1.4               0.2   \n",
      "\n",
      "   Target  \n",
      "0       0  \n",
      "1       0  \n",
      "2       0  \n",
      "3       0  \n",
      "4       0  \n"
     ]
    }
   ],
   "source": [
    "#1. Load data\n",
    "iris = load_iris()\n",
    "\n",
    "# Find out what iris data looks like using ChatGPT\n",
    "df = pd.DataFrame(iris.data, columns=iris.feature_names)\n",
    "df['Target'] = iris.target\n",
    "#df['species'] = df['species'].map({0: 'setosa', 1: 'versicolor', 2: 'virginica'})\n",
    "print(df.head())\n",
    "\n",
    "X = iris.data[:, :2] #petal length, width only\n",
    "y = (iris.target == 0).astype(int) #Setosa(1) vs Other(0) binary classification\n",
    "# Boolean array where True if target value is 0 (Setosa), False if otherwise\n",
    "\n",
    "y2 = iris.target"
   ]
  },
  {
   "cell_type": "code",
   "execution_count": 3,
   "metadata": {},
   "outputs": [],
   "source": [
    "#2. Train/test split\n",
    "X_train, X_test, y_train, y_test = train_test_split(X, y, test_size=0.2, random_state=40)\n",
    "\n",
    "X2_train, X2_test, y2_train, y2_test = train_test_split(X, y2, test_size=0.2, random_state=42)"
   ]
  },
  {
   "cell_type": "code",
   "execution_count": null,
   "metadata": {},
   "outputs": [
    {
     "name": "stdout",
     "output_type": "stream",
     "text": [
      "[[-3.19170994  2.86120242]]\n",
      "[8.30757207]\n",
      "[[-2.50280394  2.16157087]\n",
      " [ 0.62272951 -1.44206518]\n",
      " [ 1.88007444 -0.71950568]]\n",
      "[ 7.18105479  1.37277873 -8.55383352]\n",
      "(30, 2)\n",
      "(2,)\n",
      "(1, 2)\n",
      "[[0.02296768 0.5453268  0.43170551]]\n"
     ]
    }
   ],
   "source": [
    "#3. Train logistic regression model\n",
    "model = LogisticRegression()\n",
    "model.fit(X_train, y_train)\n",
    "\n",
    "print(model.coef_)\n",
    "print(model.intercept_)\n",
    "\n",
    "model2 = LogisticRegression(multi_class='multinomial', solver='lbfgs', max_iter=200)\n",
    "model2.fit(X2_train, y2_train)\n",
    "\n",
    "print(model2.coef_)\n",
    "print(model2.intercept_)\n",
    "\n",
    "print(X2_test.shape)\n",
    "print(X2_test[0].shape)\n",
    "X3_test = X2_test[0].reshape(1,-1) # Same as doing [X2_test[0]]\n",
    "print(X3_test.shape)\n",
    "print(model2.predict_proba([X2_test[0]]))"
   ]
  },
  {
   "cell_type": "code",
   "execution_count": 5,
   "metadata": {},
   "outputs": [
    {
     "name": "stdout",
     "output_type": "stream",
     "text": [
      "\n",
      " Accuracy: 100.00%\n",
      "\n",
      " Confusion Matrix:\n",
      "[[22  0]\n",
      " [ 0  8]]\n",
      "\n",
      " Classification Report:\n",
      "              precision    recall  f1-score   support\n",
      "\n",
      "           0       1.00      1.00      1.00        22\n",
      "           1       1.00      1.00      1.00         8\n",
      "\n",
      "    accuracy                           1.00        30\n",
      "   macro avg       1.00      1.00      1.00        30\n",
      "weighted avg       1.00      1.00      1.00        30\n",
      "\n",
      "\n",
      " Accuracy: 90.00%\n",
      "\n",
      " Confusion Matrix:\n",
      "[[10  0  0]\n",
      " [ 0  7  2]\n",
      " [ 0  1 10]]\n",
      "\n",
      " Classification Report:\n",
      "              precision    recall  f1-score   support\n",
      "\n",
      "           0       1.00      1.00      1.00        10\n",
      "           1       0.88      0.78      0.82         9\n",
      "           2       0.83      0.91      0.87        11\n",
      "\n",
      "    accuracy                           0.90        30\n",
      "   macro avg       0.90      0.90      0.90        30\n",
      "weighted avg       0.90      0.90      0.90        30\n",
      "\n"
     ]
    }
   ],
   "source": [
    "#4. Predict and evaluate\n",
    "y_pred = model.predict(X_test)\n",
    "acc = accuracy_score(y_test, y_pred)\n",
    "print(f\"\\n Accuracy: {acc * 100:.2f}%\")\n",
    "\n",
    "print(\"\\n Confusion Matrix:\")\n",
    "print(confusion_matrix(y_test, y_pred))\n",
    "\n",
    "print(\"\\n Classification Report:\")\n",
    "print(classification_report(y_test, y_pred))\n",
    "\n",
    "y2_pred = model2.predict(X2_test)\n",
    "acc = accuracy_score(y2_test, y2_pred)\n",
    "print(f\"\\n Accuracy: {acc * 100:.2f}%\")\n",
    "\n",
    "print(\"\\n Confusion Matrix:\")\n",
    "print(confusion_matrix(y2_test, y2_pred))\n",
    "\n",
    "print(\"\\n Classification Report:\")\n",
    "print(classification_report(y2_test, y2_pred))"
   ]
  },
  {
   "cell_type": "code",
   "execution_count": 6,
   "metadata": {},
   "outputs": [
    {
     "data": {
      "image/png": "[encoded data removed]",
      "text/plain": [
       "<Figure size 432x288 with 1 Axes>"
      ]
     },
     "metadata": {
      "needs_background": "light"
     },
     "output_type": "display_data"
    }
   ],
   "source": [
    "#5. Visualization\n",
    "import numpy as np\n",
    "\n",
    "x_min, x_max = X[:,0].min() - 0.5, X[:,0].max() + 0.5\n",
    "y_min, y_max = X[:,1].min() - 0.5, X[:,1].max() + 0.5\n",
    "xx, yy = np.meshgrid(np.linspace(x_min, x_max, 200), np.linspace(y_min, y_max, 200))\n",
    "\n",
    "Z = model2.predict(np.c_[xx.ravel(), yy.ravel()]).reshape(xx.shape)\n",
    "\n",
    "colors = ['red', 'blue', 'green']\n",
    "\n",
    "plt.contourf(xx, yy, Z, alpha=0.3, colors=colors)\n",
    "plt.scatter(X[:,0], X[:,1], c=y, cmap='coolwarm', edgecolors='k')\n",
    "plt.xlabel('Sepal length')\n",
    "plt.ylabel('Sepal width')\n",
    "plt.title('Logistic Regression Decision Boundary')\n",
    "plt.show()"
   ]
  }
 ],
 "metadata": {
  "kernelspec": {
   "display_name": "base",
   "language": "python",
   "name": "python3"
  },
  "language_info": {
   "codemirror_mode": {
    "name": "ipython",
    "version": 3
   },
   "file_extension": ".py",
   "mimetype": "text/x-python",
   "name": "python",
   "nbconvert_exporter": "python",
   "pygments_lexer": "ipython3",
   "version": "3.7.6"
  }
 },
 "nbformat": 4,
 "nbformat_minor": 2
}
