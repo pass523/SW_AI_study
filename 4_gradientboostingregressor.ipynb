{
 "cells": [
  {
   "cell_type": "code",
   "execution_count": 2,
   "metadata": {},
   "outputs": [],
   "source": [
    "import pandas as pd\n",
    "from sklearn.ensemble import GradientBoostingRegressor\n",
    "from sklearn.model_selection import train_test_split, GridSearchCV\n",
    "from sklearn.metrics import mean_squared_error, r2_score\n",
    "import matplotlib.pyplot as plt\n",
    "from sklearn.tree import plot_tree"
   ]
  },
  {
   "cell_type": "code",
   "execution_count": null,
   "metadata": {},
   "outputs": [
    {
     "name": "stdout",
     "output_type": "stream",
     "text": [
      "예측값: [0.08566667 0.083      0.13175    0.13175    0.09728571 0.268\n",
      " 0.08566667 0.20366667 0.20366667 0.08566667 0.13175    0.147\n",
      " 0.083      0.20366667 0.13175    0.41938095 0.268      0.41938095\n",
      " 0.09728571 0.147      0.13175   ]\n",
      "실제값: [0.09       0.118      0.136      0.087      0.106      0.317\n",
      " 0.08       0.177      0.182      0.082      0.106      0.157\n",
      " 0.107      0.193      0.095      0.50483333 0.192      0.4\n",
      " 0.157      0.127      0.12      ]\n",
      "MSE: 0.0013013545019897436\n",
      "R^2: 0.8876445687887724\n"
     ]
    }
   ],
   "source": [
    "#1. 데이터 불러오기\n",
    "df = pd.read_csv('./GradientBoostingData.csv')\n",
    "\n",
    "#2. X, y 분리\n",
    "X = df[['Media', 'ITS Condition', 'A2P', 'TF']]\n",
    "y = df['WST-8']\n",
    "\n",
    "#3. Train/Test 분리\n",
    "X_train, X_test, y_train, y_test = train_test_split(X, y, test_size=0.3, random_state=5)\n",
    "\n",
    "#4. Model 학습\n",
    "model = GradientBoostingRegressor(n_estimators=1000, learning_rate=0.1, max_depth=3, random_state=42)\n",
    "model.fit(X_train, y_train)\n",
    "\n",
    "#5. 예측 및 평가\n",
    "y_pred = model.predict(X_test)\n",
    "\n",
    "print(\"예측값:\", y_pred)\n",
    "print(\"실제값:\", y_test.values)\n",
    "print(\"MSE:\", mean_squared_error(y_test, y_pred))\n",
    "print(\"R^2:\", r2_score(y_test, y_pred))"
   ]
  },
  {
   "cell_type": "code",
   "execution_count": 4,
   "metadata": {},
   "outputs": [
    {
     "data": {
      "image/png": "[encoded data removed]",
      "text/plain": [
       "<Figure size 432x288 with 1 Axes>"
      ]
     },
     "metadata": {
      "needs_background": "light"
     },
     "output_type": "display_data"
    }
   ],
   "source": [
    "#6. feature importance 분석\n",
    "feat_importance = model.feature_importances_ #GBR tree를 만들때 어떤 feature가 node로 많이 선정되었는지를 저장\n",
    "feat_df = pd.Series(feat_importance, index=X.columns).sort_values()\n",
    "\n",
    "feat_df.plot(kind='barh', title='Feature Importance')\n",
    "plt.xlabel('Importance')\n",
    "plt.show()"
   ]
  },
  {
   "cell_type": "code",
   "execution_count": 5,
   "metadata": {},
   "outputs": [
    {
     "data": {
      "image/png": "[encoded data removed]",
      "text/plain": [
       "<Figure size 432x288 with 5 Axes>"
      ]
     },
     "metadata": {
      "needs_background": "light"
     },
     "output_type": "display_data"
    }
   ],
   "source": [
    "#7. Partial Dependence Plot (PDP)\n",
    "from sklearn.inspection import PartialDependenceDisplay\n",
    "\n",
    "PartialDependenceDisplay.from_estimator(model, X, ['Media', 'ITS Condition', 'A2P', 'TF'])\n",
    "plt.show()"
   ]
  },
  {
   "cell_type": "code",
   "execution_count": 6,
   "metadata": {},
   "outputs": [
    {
     "name": "stdout",
     "output_type": "stream",
     "text": [
      "Best parameters: {'learning_rate': 0.05, 'max_depth': 3, 'n_estimators': 100}\n",
      "Best R2 score (CV): 0.8351076696135853\n",
      "Test set R2: 0.8809451350550984\n",
      "Test set MSE: 0.0013789505572592757\n"
     ]
    }
   ],
   "source": [
    "#8. GridSearchCV로 최적 조건 찾기\n",
    "\n",
    "# 그리드 서치용 파라미터 후보 정의\n",
    "param_grid = {\n",
    "    'n_estimators' : [100, 500, 1000],\n",
    "    'learning_rate' : [0.01, 0.05, 0.1],\n",
    "    'max_depth' : [1, 2, 3, 4, 5]\n",
    "}\n",
    "\n",
    "# 그리드 서치 CV 설정\n",
    "gbr = GradientBoostingRegressor(random_state=42)\n",
    "grid_search = GridSearchCV(estimator=gbr, param_grid=param_grid, cv=3, scoring='r2')\n",
    "\n",
    "# 학습\n",
    "grid_search.fit(X_train, y_train)\n",
    "\n",
    "# 결과 출력\n",
    "print(\"Best parameters:\", grid_search.best_params_)\n",
    "print(\"Best R2 score (CV):\", grid_search.best_score_)\n",
    "\n",
    "# 테스트셋 성능 확인\n",
    "best_model = grid_search.best_estimator_\n",
    "y_pred2 = best_model.predict(X_test)\n",
    "print(\"Test set R2:\", r2_score(y_test, y_pred2))\n",
    "print(\"Test set MSE:\", mean_squared_error(y_test, y_pred2))"
   ]
  },
  {
   "cell_type": "code",
   "execution_count": null,
   "metadata": {},
   "outputs": [
    {
     "name": "stdout",
     "output_type": "stream",
     "text": [
      "    Media  ITS Condition  A2P  TF  Predicted WST-8\n",
      "3       1              0    1   1         0.368556\n",
      "2       1              0    1   0         0.327000\n",
      "6       1              1    1   0         0.268000\n",
      "7       1              1    1   1         0.243977\n",
      "10      1              2    1   0         0.203667\n"
     ]
    }
   ],
   "source": [
    "#9. 상위 조합 찾기\n",
    "from itertools import product\n",
    "\n",
    "# 가능한 조합\n",
    "media_vals = [1]\n",
    "its_vals = [0, 1, 2]\n",
    "a2p_vals = [0, 1]\n",
    "tf_vals = [0, 1]\n",
    "\n",
    "param_combinations = list(product(media_vals, its_vals, a2p_vals, tf_vals))\n",
    "grid_df = pd.DataFrame(param_combinations, columns=['Media', 'ITS Condition', 'A2P', 'TF'])\n",
    "\n",
    "# 모델 예측\n",
    "grid_df['Predicted WST-8'] = model.predict(grid_df)\n",
    "\n",
    "# 상위 조합 5개\n",
    "best_five = grid_df.sort_values(by='Predicted WST-8', ascending=False).head(5)\n",
    "print(best_five)"
   ]
  }
 ],
 "metadata": {
  "kernelspec": {
   "display_name": "base",
   "language": "python",
   "name": "python3"
  },
  "language_info": {
   "codemirror_mode": {
    "name": "ipython",
    "version": 3
   },
   "file_extension": ".py",
   "mimetype": "text/x-python",
   "name": "python",
   "nbconvert_exporter": "python",
   "pygments_lexer": "ipython3",
   "version": "3.7.6"
  }
 },
 "nbformat": 4,
 "nbformat_minor": 2
}
